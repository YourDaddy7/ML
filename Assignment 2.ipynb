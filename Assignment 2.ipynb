{
 "cells": [
  {
   "cell_type": "markdown",
   "id": "f39c94c9-166f-4584-8254-24d32320cf92",
   "metadata": {
    "tags": []
   },
   "source": [
    "## **Linear Regression**"
   ]
  },
  {
   "cell_type": "code",
   "execution_count": 1,
   "id": "10a8b26c-7c40-4877-8224-6d076a58599a",
   "metadata": {},
   "outputs": [],
   "source": [
    "import pandas as pd\n",
    "import numpy as np\n",
    "import matplotlib.pyplot as plt\n",
    "import seaborn as sb"
   ]
  },
  {
   "cell_type": "code",
   "execution_count": 2,
   "id": "1d60c066-35e2-41ba-b674-295d8988b701",
   "metadata": {},
   "outputs": [],
   "source": [
    "temp = pd.read_csv(r'temperatures.csv')"
   ]
  },
  {
   "cell_type": "code",
   "execution_count": 3,
   "id": "3ee7ee61-0a9c-450c-be97-7bd1d3b9ef86",
   "metadata": {},
   "outputs": [
    {
     "data": {
      "text/plain": [
       "(117, 18)"
      ]
     },
     "execution_count": 3,
     "metadata": {},
     "output_type": "execute_result"
    }
   ],
   "source": [
    "temp.shape"
   ]
  },
  {
   "cell_type": "code",
   "execution_count": 4,
   "id": "b185c129-64f8-4122-a5ef-8270d555ad7e",
   "metadata": {
    "tags": []
   },
   "outputs": [
    {
     "data": {
      "text/html": [
       "<div>\n",
       "<style scoped>\n",
       "    .dataframe tbody tr th:only-of-type {\n",
       "        vertical-align: middle;\n",
       "    }\n",
       "\n",
       "    .dataframe tbody tr th {\n",
       "        vertical-align: top;\n",
       "    }\n",
       "\n",
       "    .dataframe thead th {\n",
       "        text-align: right;\n",
       "    }\n",
       "</style>\n",
       "<table border=\"1\" class=\"dataframe\">\n",
       "  <thead>\n",
       "    <tr style=\"text-align: right;\">\n",
       "      <th></th>\n",
       "      <th>YEAR</th>\n",
       "      <th>JAN</th>\n",
       "      <th>FEB</th>\n",
       "      <th>MAR</th>\n",
       "      <th>APR</th>\n",
       "      <th>MAY</th>\n",
       "      <th>JUN</th>\n",
       "      <th>JUL</th>\n",
       "      <th>AUG</th>\n",
       "      <th>SEP</th>\n",
       "      <th>OCT</th>\n",
       "      <th>NOV</th>\n",
       "      <th>DEC</th>\n",
       "      <th>ANNUAL</th>\n",
       "      <th>JAN-FEB</th>\n",
       "      <th>MAR-MAY</th>\n",
       "      <th>JUN-SEP</th>\n",
       "      <th>OCT-DEC</th>\n",
       "    </tr>\n",
       "  </thead>\n",
       "  <tbody>\n",
       "    <tr>\n",
       "      <th>0</th>\n",
       "      <td>1901</td>\n",
       "      <td>22.40</td>\n",
       "      <td>24.14</td>\n",
       "      <td>29.07</td>\n",
       "      <td>31.91</td>\n",
       "      <td>33.41</td>\n",
       "      <td>33.18</td>\n",
       "      <td>31.21</td>\n",
       "      <td>30.39</td>\n",
       "      <td>30.47</td>\n",
       "      <td>29.97</td>\n",
       "      <td>27.31</td>\n",
       "      <td>24.49</td>\n",
       "      <td>28.96</td>\n",
       "      <td>23.27</td>\n",
       "      <td>31.46</td>\n",
       "      <td>31.27</td>\n",
       "      <td>27.25</td>\n",
       "    </tr>\n",
       "    <tr>\n",
       "      <th>1</th>\n",
       "      <td>1902</td>\n",
       "      <td>24.93</td>\n",
       "      <td>26.58</td>\n",
       "      <td>29.77</td>\n",
       "      <td>31.78</td>\n",
       "      <td>33.73</td>\n",
       "      <td>32.91</td>\n",
       "      <td>30.92</td>\n",
       "      <td>30.73</td>\n",
       "      <td>29.80</td>\n",
       "      <td>29.12</td>\n",
       "      <td>26.31</td>\n",
       "      <td>24.04</td>\n",
       "      <td>29.22</td>\n",
       "      <td>25.75</td>\n",
       "      <td>31.76</td>\n",
       "      <td>31.09</td>\n",
       "      <td>26.49</td>\n",
       "    </tr>\n",
       "    <tr>\n",
       "      <th>2</th>\n",
       "      <td>1903</td>\n",
       "      <td>23.44</td>\n",
       "      <td>25.03</td>\n",
       "      <td>27.83</td>\n",
       "      <td>31.39</td>\n",
       "      <td>32.91</td>\n",
       "      <td>33.00</td>\n",
       "      <td>31.34</td>\n",
       "      <td>29.98</td>\n",
       "      <td>29.85</td>\n",
       "      <td>29.04</td>\n",
       "      <td>26.08</td>\n",
       "      <td>23.65</td>\n",
       "      <td>28.47</td>\n",
       "      <td>24.24</td>\n",
       "      <td>30.71</td>\n",
       "      <td>30.92</td>\n",
       "      <td>26.26</td>\n",
       "    </tr>\n",
       "    <tr>\n",
       "      <th>3</th>\n",
       "      <td>1904</td>\n",
       "      <td>22.50</td>\n",
       "      <td>24.73</td>\n",
       "      <td>28.21</td>\n",
       "      <td>32.02</td>\n",
       "      <td>32.64</td>\n",
       "      <td>32.07</td>\n",
       "      <td>30.36</td>\n",
       "      <td>30.09</td>\n",
       "      <td>30.04</td>\n",
       "      <td>29.20</td>\n",
       "      <td>26.36</td>\n",
       "      <td>23.63</td>\n",
       "      <td>28.49</td>\n",
       "      <td>23.62</td>\n",
       "      <td>30.95</td>\n",
       "      <td>30.66</td>\n",
       "      <td>26.40</td>\n",
       "    </tr>\n",
       "    <tr>\n",
       "      <th>4</th>\n",
       "      <td>1905</td>\n",
       "      <td>22.00</td>\n",
       "      <td>22.83</td>\n",
       "      <td>26.68</td>\n",
       "      <td>30.01</td>\n",
       "      <td>33.32</td>\n",
       "      <td>33.25</td>\n",
       "      <td>31.44</td>\n",
       "      <td>30.68</td>\n",
       "      <td>30.12</td>\n",
       "      <td>30.67</td>\n",
       "      <td>27.52</td>\n",
       "      <td>23.82</td>\n",
       "      <td>28.30</td>\n",
       "      <td>22.25</td>\n",
       "      <td>30.00</td>\n",
       "      <td>31.33</td>\n",
       "      <td>26.57</td>\n",
       "    </tr>\n",
       "  </tbody>\n",
       "</table>\n",
       "</div>"
      ],
      "text/plain": [
       "   YEAR    JAN    FEB    MAR    APR    MAY    JUN    JUL    AUG    SEP    OCT  \\\n",
       "0  1901  22.40  24.14  29.07  31.91  33.41  33.18  31.21  30.39  30.47  29.97   \n",
       "1  1902  24.93  26.58  29.77  31.78  33.73  32.91  30.92  30.73  29.80  29.12   \n",
       "2  1903  23.44  25.03  27.83  31.39  32.91  33.00  31.34  29.98  29.85  29.04   \n",
       "3  1904  22.50  24.73  28.21  32.02  32.64  32.07  30.36  30.09  30.04  29.20   \n",
       "4  1905  22.00  22.83  26.68  30.01  33.32  33.25  31.44  30.68  30.12  30.67   \n",
       "\n",
       "     NOV    DEC  ANNUAL  JAN-FEB  MAR-MAY  JUN-SEP  OCT-DEC  \n",
       "0  27.31  24.49   28.96    23.27    31.46    31.27    27.25  \n",
       "1  26.31  24.04   29.22    25.75    31.76    31.09    26.49  \n",
       "2  26.08  23.65   28.47    24.24    30.71    30.92    26.26  \n",
       "3  26.36  23.63   28.49    23.62    30.95    30.66    26.40  \n",
       "4  27.52  23.82   28.30    22.25    30.00    31.33    26.57  "
      ]
     },
     "execution_count": 4,
     "metadata": {},
     "output_type": "execute_result"
    }
   ],
   "source": [
    "temp.head(5)"
   ]
  },
  {
   "cell_type": "code",
   "execution_count": 6,
   "id": "a14828c6-0076-4e1b-8995-b6ae78db5860",
   "metadata": {
    "tags": []
   },
   "outputs": [
    {
     "data": {
      "text/plain": [
       "YEAR       0\n",
       "JAN        0\n",
       "FEB        0\n",
       "MAR        0\n",
       "APR        0\n",
       "MAY        0\n",
       "JUN        0\n",
       "JUL        0\n",
       "AUG        0\n",
       "SEP        0\n",
       "OCT        0\n",
       "NOV        0\n",
       "DEC        0\n",
       "ANNUAL     0\n",
       "JAN-FEB    0\n",
       "MAR-MAY    0\n",
       "JUN-SEP    0\n",
       "OCT-DEC    0\n",
       "dtype: int64"
      ]
     },
     "execution_count": 6,
     "metadata": {},
     "output_type": "execute_result"
    }
   ],
   "source": [
    "temp.isnull().sum()"
   ]
  },
  {
   "cell_type": "code",
   "execution_count": null,
   "id": "4ec1f617-9b23-44da-8854-ee47e379a271",
   "metadata": {},
   "outputs": [],
   "source": [
    "# sb.countplot(temperature['JAN'])\n",
    "# plt.title('temp for each month')\n",
    "# plt.xlabel('JAN')\n",
    "# plt.ylabel('temperature')"
   ]
  },
  {
   "cell_type": "code",
   "execution_count": 8,
   "id": "c23d0893-63c8-4ec4-ad0d-a0dc2cec8dfd",
   "metadata": {},
   "outputs": [
    {
     "name": "stdout",
     "output_type": "stream",
     "text": [
      "     YEAR\n",
      "0    1901\n",
      "1    1902\n",
      "2    1903\n",
      "3    1904\n",
      "4    1905\n",
      "..    ...\n",
      "112  2013\n",
      "113  2014\n",
      "114  2015\n",
      "115  2016\n",
      "116  2017\n",
      "\n",
      "[117 rows x 1 columns]\n",
      "       JAN\n",
      "0    22.40\n",
      "1    24.93\n",
      "2    23.44\n",
      "3    22.50\n",
      "4    22.00\n",
      "..     ...\n",
      "112  24.56\n",
      "113  23.83\n",
      "114  24.58\n",
      "115  26.94\n",
      "116  26.45\n",
      "\n",
      "[117 rows x 1 columns]\n"
     ]
    }
   ],
   "source": [
    "x=temp[['YEAR']]\n",
    "y=temp[[\"JAN\"]]\n",
    "print(x)\n",
    "print(y)"
   ]
  },
  {
   "cell_type": "code",
   "execution_count": 9,
   "id": "3fc73cbd-23f0-43e9-be19-2836c252bbb8",
   "metadata": {},
   "outputs": [],
   "source": [
    "from sklearn.model_selection import train_test_split\n",
    "xtrain ,xtest ,ytrain ,ytest = train_test_split(x,y,test_size=0.2)"
   ]
  },
  {
   "cell_type": "code",
   "execution_count": 10,
   "id": "cbc3bf8a-352a-460c-a1eb-87c9f004aa14",
   "metadata": {},
   "outputs": [],
   "source": [
    "# print(len(xtrain))\n",
    "# print(len(xtest))"
   ]
  },
  {
   "cell_type": "code",
   "execution_count": 36,
   "id": "b56363bf-fbf0-47a5-a107-174acea41f81",
   "metadata": {},
   "outputs": [],
   "source": [
    "from sklearn.linear_model import LinearRegression"
   ]
  },
  {
   "cell_type": "code",
   "execution_count": 45,
   "id": "27c44ce2-a819-43e4-8182-33d060e2d7ee",
   "metadata": {},
   "outputs": [
    {
     "name": "stdout",
     "output_type": "stream",
     "text": [
      "[-5.72960545]\n",
      "[[0.01500918]]\n"
     ]
    }
   ],
   "source": [
    "model = LinearRegression().fit(xtrain,ytrain)\n",
    "print(model.intercept_)\n",
    "print(model.coef_)"
   ]
  },
  {
   "cell_type": "code",
   "execution_count": 70,
   "id": "7a874a03-c5e8-4a9f-b2f0-233db236dc3c",
   "metadata": {},
   "outputs": [
    {
     "name": "stdout",
     "output_type": "stream",
     "text": [
      "Predictions [[23.71839973]\n",
      " [23.40320701]\n",
      " [22.86287664]\n",
      " [23.20808771]\n",
      " [24.30375763]\n",
      " [23.26812442]\n",
      " [23.2831336 ]\n",
      " [22.9529317 ]\n",
      " [23.3431703 ]\n",
      " [24.4538494 ]\n",
      " [23.65836302]\n",
      " [24.2587301 ]\n",
      " [22.87788582]\n",
      " [23.94353738]\n",
      " [23.61333549]\n",
      " [24.28874845]\n",
      " [23.88350067]\n",
      " [24.42383104]\n",
      " [23.02797759]\n",
      " [22.892895  ]\n",
      " [23.62834467]\n",
      " [24.46885857]\n",
      " [23.04298676]\n",
      " [23.0880143 ]]\n",
      "       JAN\n",
      "61   22.89\n",
      "40   23.18\n",
      "4    22.00\n",
      "27   23.33\n",
      "100  24.36\n",
      "31   24.13\n",
      "32   22.85\n",
      "10   23.22\n",
      "36   23.34\n",
      "110  24.18\n",
      "57   24.75\n",
      "97   23.95\n",
      "5    22.28\n",
      "76   23.98\n",
      "54   23.46\n",
      "99   24.44\n",
      "72   24.02\n",
      "108  25.27\n",
      "15   24.13\n",
      "6    24.46\n",
      "55   23.16\n",
      "111  23.61\n",
      "16   23.68\n",
      "19   22.87\n"
     ]
    }
   ],
   "source": [
    "y_predict = model.predict(xtest)\n",
    "print( \"Predictions\",y_predict)\n",
    "print(ytest)"
   ]
  },
  {
   "cell_type": "code",
   "execution_count": 17,
   "id": "baaaacff-6880-4aed-a28b-c69f11e887e2",
   "metadata": {},
   "outputs": [],
   "source": [
    "plt.scatter(xtrain,ytrain,color=\"red\")"
   ]
  },
  {
   "cell_type": "code",
   "execution_count": 21,
   "id": "7b6ff708-de42-4cac-a6fd-545da9e81b78",
   "metadata": {},
   "outputs": [
    {
     "data": {
      "text/plain": [
       "[<matplotlib.lines.Line2D at 0x7f4d24cfb5b0>]"
      ]
     },
     "execution_count": 21,
     "metadata": {},
     "output_type": "execute_result"
    },
    {
     "data": {
      "image/png": "[encoded data removed]",
      "text/plain": [
       "<Figure size 432x288 with 1 Axes>"
      ]
     },
     "metadata": {
      "needs_background": "light"
     },
     "output_type": "display_data"
    }
   ],
   "source": [
    "plt.title(\"Temperature Predictions\")\n",
    "plt.xlabel(\"Year\")\n",
    "plt.ylabel(\"Temperature\")\n",
    "plt.plot(xtrain,reg.predict(xtrain),color=\"green\")"
   ]
  },
  {
   "cell_type": "code",
   "execution_count": 29,
   "id": "ffc35262-6d5b-4bfd-bc72-5e0f6d754df7",
   "metadata": {},
   "outputs": [],
   "source": [
    "from sklearn import metrics\n",
    "mse = metrics.mean_squared_error(ytest,y_predict)\n",
    "mae = metrics.mean_absolute_error(ytest, y_predict)\n",
    "rmse = np.sqrt(mse)\n",
    "r2 = metrics.r2_score(ytest, y_predict)\n",
    "n= len(xtest)\n",
    "adjustedr2 = (1-r2)*(n-1)/(n-2)\n"
   ]
  },
  {
   "cell_type": "code",
   "execution_count": 30,
   "id": "934d3f4f-e6cc-494e-94af-d0de10ac9dee",
   "metadata": {},
   "outputs": [
    {
     "name": "stdout",
     "output_type": "stream",
     "text": [
      "MSE :  0.42011626318506545\n",
      "RMSE :  0.6481637626287553\n",
      "MAE :  0.5043776766106239\n",
      "R2 :  0.28002953943628084\n",
      "Adjusted R2 :  0.7526963905893428\n"
     ]
    }
   ],
   "source": [
    "print(\"MSE : \",mse)\n",
    "print(\"RMSE : \",rmse)\n",
    "print(\"MAE : \",mae)\n",
    "print(\"R2 : \",r2)\n",
    "print(\"Adjusted R2 : \",adjustedr2)"
   ]
  },
  {
   "cell_type": "markdown",
   "id": "8b618ec4-b546-477a-8f31-6bc614acb8d6",
   "metadata": {},
   "source": [
    "# FEB Month"
   ]
  },
  {
   "cell_type": "code",
   "execution_count": null,
   "id": "62dae8a0-b479-4d2f-9b77-3a81e1d96674",
   "metadata": {},
   "outputs": [],
   "source": [
    "x=temperature[['YEAR']]\n",
    "y=temperature[[\"FEB\"]]\n",
    "print(x)\n",
    "print(y)"
   ]
  },
  {
   "cell_type": "code",
   "execution_count": null,
   "id": "7eda56a3-735c-4efc-8ddd-697f01f9f9ff",
   "metadata": {},
   "outputs": [],
   "source": [
    "from sklearn.model_selection import train_test_split\n",
    "xtrain,xtest,ytrain,ytest=train_test_split(x,y,test_size=0.2)"
   ]
  },
  {
   "cell_type": "code",
   "execution_count": null,
   "id": "a736f591-0d76-4af0-8ffd-6425a807a1da",
   "metadata": {},
   "outputs": [],
   "source": [
    "from sklearn import linear_model,metrics\n",
    "reg=linear_model.LinearRegression()"
   ]
  },
  {
   "cell_type": "code",
   "execution_count": null,
   "id": "41243115-c4f8-46b4-8a27-ef8aa32d9a5e",
   "metadata": {},
   "outputs": [],
   "source": [
    "model=reg.fit(xtrain,ytrain)\n",
    "print(model.intercept_)\n",
    "print(model.coef_)"
   ]
  },
  {
   "cell_type": "code",
   "execution_count": null,
   "id": "c31970bb-45cc-409d-9d15-74d5da43613c",
   "metadata": {},
   "outputs": [],
   "source": [
    "y_predict=model.predict(xtest)\n",
    "print(\"Predictions\",y_predict)"
   ]
  },
  {
   "cell_type": "code",
   "execution_count": null,
   "id": "fbfddb66-318d-42b3-b728-23e426daa8b7",
   "metadata": {},
   "outputs": [],
   "source": [
    "plt.scatter(xtrain,ytrain,color=\"red\")"
   ]
  },
  {
   "cell_type": "code",
   "execution_count": null,
   "id": "fd190615-ad17-4858-942d-367e9e774678",
   "metadata": {},
   "outputs": [],
   "source": [
    "plt.title(\"Temperature Predictions\")\n",
    "plt.xlabel(\"Year\")\n",
    "plt.ylabel(\"Temperature\")\n",
    "plt.plot(xtrain,reg.predict(xtrain),color=\"green\")"
   ]
  },
  {
   "cell_type": "code",
   "execution_count": null,
   "id": "3e35f5cd-cde1-4a18-bc25-426463b670d6",
   "metadata": {},
   "outputs": [],
   "source": [
    "from sklearn.metrics import mean_squared_error\n",
    "mean_squared_error(ytest,y_predict)\n"
   ]
  },
  {
   "cell_type": "code",
   "execution_count": null,
   "id": "77d952cc-b94c-48f3-9eab-4ed4a241b27f",
   "metadata": {},
   "outputs": [],
   "source": [
    "import math\n",
    "mse=mean_squared_error(ytest,y_predict)\n",
    "rmse=math.sqrt(mse)"
   ]
  },
  {
   "cell_type": "code",
   "execution_count": null,
   "id": "fdf60bc8-d981-480a-b80f-b53782cd24d6",
   "metadata": {},
   "outputs": [],
   "source": [
    "print(\"MSE : \",mse)\n",
    "print(\"RMSE : \",rmse)"
   ]
  },
  {
   "cell_type": "code",
   "execution_count": null,
   "id": "b665d7a6-80c7-4437-bb6a-58f8c6c5c458",
   "metadata": {},
   "outputs": [],
   "source": []
  }
 ],
 "metadata": {
  "kernelspec": {
   "display_name": "Python 3 (ipykernel)",
   "language": "python",
   "name": "python3"
  },
  "language_info": {
   "codemirror_mode": {
    "name": "ipython",
    "version": 3
   },
   "file_extension": ".py",
   "mimetype": "text/x-python",
   "name": "python",
   "nbconvert_exporter": "python",
   "pygments_lexer": "ipython3",
   "version": "3.10.6"
  }
 },
 "nbformat": 4,
 "nbformat_minor": 5
}
